{
 "cells": [
  {
   "cell_type": "code",
   "execution_count": 23,
   "metadata": {},
   "outputs": [],
   "source": [
    "# importing required libraries\n",
    "\n",
    "\n",
    "from scipy.misc import imread\n",
    "get_ipython().magic('matplotlib inline')\n",
    "import matplotlib.pyplot as plt\n",
    "import numpy as np\n",
    "import keras\n",
    "\n",
    "import pandas as pd\n",
    "import cv2\n",
    "\n",
    "from keras.models import Sequential\n",
    "from keras.layers import Dense, Activation\n",
    "from keras.applications.vgg16 import VGG16\n",
    "from keras.preprocessing import image\n",
    "from keras.applications.vgg16 import preprocess_input\n",
    "from keras.applications.vgg16 import decode_predictions\n",
    "from keras import models\n",
    "from keras.models import Model\n",
    "from keras import layers\n",
    "from keras import optimizers\n",
    "from keras import callbacks\n",
    "from keras.layers.advanced_activations import LeakyReLU\n",
    "\n",
    "from scipy.misc import imresize"
   ]
  },
  {
   "cell_type": "code",
   "execution_count": 24,
   "metadata": {},
   "outputs": [
    {
     "name": "stdout",
     "output_type": "stream",
     "text": [
      "Loading MNIST data...\n",
      "x_train shape: (60000, 28, 28, 1) y_train shape: (60000, 10)\n",
      "x_test shape: (10000, 28, 28, 1) y_test shape (10000, 10)\n"
     ]
    }
   ],
   "source": [
    "from keras.datasets import fashion_mnist\n",
    "from keras import backend as K\n",
    "# load and pre-process data\n",
    "\n",
    "if K.image_data_format() == 'channels_first':\n",
    "    input_shape = (1, 28, 28)  # image shape\n",
    "else:\n",
    "    input_shape = (28, 28, 1)  # image shape\n",
    "    \n",
    "def preprocess_input(x):\n",
    "    return x.astype('float32').reshape((-1,) + input_shape) / 255\n",
    "\n",
    "\n",
    "def preprocess_output(y):\n",
    "    return keras.utils.to_categorical(y)\n",
    "\n",
    "(x_train, y_train), (x_test, y_test) = fashion_mnist.load_data()\n",
    "x_train, x_test = map(preprocess_input, [x_train, x_test])\n",
    "y_train, y_test = map(preprocess_output, [y_train, y_test])\n",
    "print('Loading MNIST data...')\n",
    "print('x_train shape:', x_train.shape, 'y_train shape:', y_train.shape)\n",
    "print('x_test shape:', x_test.shape, 'y_test shape', y_test.shape)"
   ]
  },
  {
   "cell_type": "code",
   "execution_count": 25,
   "metadata": {},
   "outputs": [],
   "source": [
    "# read images\n",
    "\n",
    "#from mnist import MNIST\n",
    "\n",
    "#train_path=\"/home/lemos/Cursos/a-comprehensive-learning-path-for-deep-learning-in-2019/Identify the digits/Images/pretrained/uncompressed\"\n",
    "#test_path=\"/home/lemos/Cursos/a-comprehensive-learning-path-for-deep-learning-in-2019/Identify the digits/Images/pretrained/uncompressed\"\n",
    "\n",
    "#mndata = MNIST(train_path)\n",
    "\n",
    "#train, train_labels = mndata.load_training()\n",
    "#test, test_labels = mndata.load_testing()"
   ]
  },
  {
   "cell_type": "code",
   "execution_count": 26,
   "metadata": {},
   "outputs": [],
   "source": [
    "from PIL import Image\n",
    "\n",
    "# preparing the train dataset\n",
    "train_img=[]\n",
    "#for i in range(len(train)):\n",
    "for i in range(3000):\n",
    "    temp_img = Image.new(\"L\", (28, 28))\n",
    "    temp_img.putdata(x_train[i])\n",
    "    temp_img = temp_img.resize((48,48)).convert('RGB')\n",
    "    temp_img = image.img_to_array(temp_img)\n",
    "    train_img.append(temp_img)\n",
    "    \n"
   ]
  },
  {
   "cell_type": "code",
   "execution_count": 27,
   "metadata": {},
   "outputs": [],
   "source": [
    "\n",
    "#converting train images to array and applying mean subtraction processing\n",
    "\n",
    "train_img=np.array(train_img) \n",
    "#train_img=preprocess_input(train_img)\n"
   ]
  },
  {
   "cell_type": "code",
   "execution_count": 28,
   "metadata": {},
   "outputs": [],
   "source": [
    "# preparing the test dataset\n",
    "test_img=[]\n",
    "#for i in range(len(test)):\n",
    "for i in range(200):\n",
    "    temp_img = Image.new(\"L\", (28, 28))\n",
    "    temp_img.putdata(x_test[i])\n",
    "    temp_img = temp_img.resize((48,48)).convert('RGB')\n",
    "    temp_img = image.img_to_array(temp_img)\n",
    "    test_img.append(temp_img)"
   ]
  },
  {
   "cell_type": "code",
   "execution_count": 29,
   "metadata": {},
   "outputs": [],
   "source": [
    "#converting test images to array and applying mean subtraction processing\n",
    "\n",
    "test_img=np.array(test_img) \n",
    "#test_img=preprocess_input(test_img)"
   ]
  },
  {
   "cell_type": "code",
   "execution_count": 30,
   "metadata": {},
   "outputs": [
    {
     "name": "stdout",
     "output_type": "stream",
     "text": [
      "_________________________________________________________________\n",
      "Layer (type)                 Output Shape              Param #   \n",
      "=================================================================\n",
      "input_2 (InputLayer)         (None, 48, 48, 3)         0         \n",
      "_________________________________________________________________\n",
      "block1_conv1 (Conv2D)        (None, 48, 48, 64)        1792      \n",
      "_________________________________________________________________\n",
      "block1_conv2 (Conv2D)        (None, 48, 48, 64)        36928     \n",
      "_________________________________________________________________\n",
      "block1_pool (MaxPooling2D)   (None, 24, 24, 64)        0         \n",
      "_________________________________________________________________\n",
      "block2_conv1 (Conv2D)        (None, 24, 24, 128)       73856     \n",
      "_________________________________________________________________\n",
      "block2_conv2 (Conv2D)        (None, 24, 24, 128)       147584    \n",
      "_________________________________________________________________\n",
      "block2_pool (MaxPooling2D)   (None, 12, 12, 128)       0         \n",
      "_________________________________________________________________\n",
      "block3_conv1 (Conv2D)        (None, 12, 12, 256)       295168    \n",
      "_________________________________________________________________\n",
      "block3_conv2 (Conv2D)        (None, 12, 12, 256)       590080    \n",
      "_________________________________________________________________\n",
      "block3_conv3 (Conv2D)        (None, 12, 12, 256)       590080    \n",
      "_________________________________________________________________\n",
      "block3_pool (MaxPooling2D)   (None, 6, 6, 256)         0         \n",
      "_________________________________________________________________\n",
      "block4_conv1 (Conv2D)        (None, 6, 6, 512)         1180160   \n",
      "_________________________________________________________________\n",
      "block4_conv2 (Conv2D)        (None, 6, 6, 512)         2359808   \n",
      "_________________________________________________________________\n",
      "block4_conv3 (Conv2D)        (None, 6, 6, 512)         2359808   \n",
      "_________________________________________________________________\n",
      "block4_pool (MaxPooling2D)   (None, 3, 3, 512)         0         \n",
      "_________________________________________________________________\n",
      "block5_conv1 (Conv2D)        (None, 3, 3, 512)         2359808   \n",
      "_________________________________________________________________\n",
      "block5_conv2 (Conv2D)        (None, 3, 3, 512)         2359808   \n",
      "_________________________________________________________________\n",
      "block5_conv3 (Conv2D)        (None, 3, 3, 512)         2359808   \n",
      "_________________________________________________________________\n",
      "block5_pool (MaxPooling2D)   (None, 1, 1, 512)         0         \n",
      "=================================================================\n",
      "Total params: 14,714,688\n",
      "Trainable params: 14,714,688\n",
      "Non-trainable params: 0\n",
      "_________________________________________________________________\n"
     ]
    }
   ],
   "source": [
    "# Define the parameters for instanitaing VGG16 model. \n",
    "IMG_WIDTH = 48\n",
    "IMG_HEIGHT = 48\n",
    "IMG_DEPTH = 3\n",
    "BATCH_SIZE = 16\n",
    "\n",
    "# loading VGG16 model weights\n",
    "conv_base = VGG16(weights='imagenet', include_top=False, input_shape=(IMG_HEIGHT, IMG_WIDTH, IMG_DEPTH))\n",
    "# Extracting features from the train dataset using the VGG16 pre-trained model\n",
    "#features_train=model.predict(train_img)\n",
    "# Extracting features from the test dataset using the VGG16 pre-trained model\n",
    "#features_test=model.predict(test_img)\n",
    "# flattening the layers to conform to MLP input\n",
    "#train_x=features_train.reshape(3000,25088)\n",
    "conv_base.summary()"
   ]
  },
  {
   "cell_type": "code",
   "execution_count": 31,
   "metadata": {},
   "outputs": [],
   "source": [
    "train_y=np.array(y_train[0:3000])\n",
    "test_Y = np.array(y_test[0:200]) \n",
    "\n",
    "# creating training and validation set\n",
    "from sklearn.model_selection import train_test_split\n",
    "train_X,valid_X,train_label,valid_label=train_test_split(train_img,train_y,test_size=0.2, random_state=13)"
   ]
  },
  {
   "cell_type": "code",
   "execution_count": 32,
   "metadata": {},
   "outputs": [
    {
     "data": {
      "text/plain": [
       "((2400, 48, 48, 3), (600, 48, 48, 3), (2400, 10), (600, 10))"
      ]
     },
     "execution_count": 32,
     "metadata": {},
     "output_type": "execute_result"
    }
   ],
   "source": [
    "\n",
    "\n",
    "# Finally check the data size whether it is as per tensorflow and VGG16 requirement\n",
    "train_X.shape,valid_X.shape,train_label.shape,valid_label.shape\n",
    "\n"
   ]
  },
  {
   "cell_type": "code",
   "execution_count": 33,
   "metadata": {},
   "outputs": [
    {
     "data": {
      "text/plain": [
       "10"
      ]
     },
     "execution_count": 33,
     "metadata": {},
     "output_type": "execute_result"
    }
   ],
   "source": [
    "num_classes = len(train_label[0])\n",
    "num_classes\n"
   ]
  },
  {
   "cell_type": "code",
   "execution_count": 34,
   "metadata": {},
   "outputs": [
    {
     "name": "stdout",
     "output_type": "stream",
     "text": [
      "2400/2400 [==============================] - 13s 5ms/step\n",
      "200/200 [==============================] - 1s 6ms/step\n",
      "600/600 [==============================] - 3s 5ms/step\n"
     ]
    }
   ],
   "source": [
    "# Extracting features\n",
    "train_features = conv_base.predict(np.array(train_X), batch_size=BATCH_SIZE, verbose=1)\n",
    "test_features = conv_base.predict(np.array(test_img), batch_size=BATCH_SIZE, verbose=1)\n",
    "val_features = conv_base.predict(np.array(valid_X), batch_size=BATCH_SIZE, verbose=1)\n",
    "#for layer in conv_base.layers:\n",
    "#    layer.trainable = False"
   ]
  },
  {
   "cell_type": "code",
   "execution_count": 35,
   "metadata": {},
   "outputs": [],
   "source": [
    "# 6.1 Saving the features so that they can be used for future\n",
    "np.savez(\"train_features\", train_features, train_label)\n",
    "np.savez(\"test_features\", test_features, test_Y)\n",
    "np.savez(\"val_features\", val_features, valid_label)"
   ]
  },
  {
   "cell_type": "code",
   "execution_count": 36,
   "metadata": {},
   "outputs": [
    {
     "name": "stdout",
     "output_type": "stream",
     "text": [
      "(2400, 1, 1, 512) \n",
      " (200, 1, 1, 512) \n",
      " (600, 1, 1, 512)\n"
     ]
    }
   ],
   "source": [
    "# Current shape of features\n",
    "print(train_features.shape, \"\\n\",  test_features.shape, \"\\n\", val_features.shape)"
   ]
  },
  {
   "cell_type": "code",
   "execution_count": 37,
   "metadata": {},
   "outputs": [],
   "source": [
    "# Flatten extracted features\n",
    "train_features_flat = np.reshape(train_features, (2400, 1*1*512))\n",
    "test_features_flat = np.reshape(test_features, (200, 1*1*512))\n",
    "val_features_flat = np.reshape(val_features, (600, 1*1*512))"
   ]
  },
  {
   "cell_type": "code",
   "execution_count": 38,
   "metadata": {},
   "outputs": [],
   "source": [
    "# 7.0 Define the densely connected classifier followed by leakyrelu layer and finally dense layer for the number of classes\n",
    "NB_TRAIN_SAMPLES = train_features_flat.shape[0]\n",
    "NB_VALIDATION_SAMPLES = val_features_flat.shape[0]\n",
    "NB_EPOCHS = 100\n",
    "\n",
    "model = Sequential()\n",
    "model.add(Dense(512, activation='relu', input_dim=(1*1*512)))\n",
    "model.add(LeakyReLU(alpha=0.1))\n",
    "model.add(Dense(num_classes, activation='softmax'))\n",
    "\n",
    "# Compile the model.\n",
    "model.compile(\n",
    "    loss='categorical_crossentropy',\n",
    "    optimizer=optimizers.Adam(),\n",
    "  # optimizer=optimizers.RMSprop(lr=2e-5),\n",
    "    metrics=['acc'])"
   ]
  },
  {
   "cell_type": "code",
   "execution_count": 39,
   "metadata": {},
   "outputs": [],
   "source": [
    "# Incorporating reduced learning and early stopping for callback\n",
    "reduce_learning = callbacks.ReduceLROnPlateau(\n",
    "    monitor='val_loss',\n",
    "    factor=0.2,\n",
    "    patience=2,\n",
    "    verbose=1,\n",
    "    mode='auto',\n",
    "    epsilon=0.0001,\n",
    "    cooldown=2,\n",
    "    min_lr=0)\n",
    "\n",
    "eary_stopping = callbacks.EarlyStopping(\n",
    "    monitor='val_loss',\n",
    "    min_delta=0,\n",
    "    patience=7,\n",
    "    verbose=1,\n",
    "    mode='auto')\n",
    "\n",
    "callbacks = [reduce_learning, eary_stopping]\n"
   ]
  },
  {
   "cell_type": "code",
   "execution_count": 40,
   "metadata": {},
   "outputs": [],
   "source": [
    "# creating a mlp model\n",
    "#from keras.layers import Dense, Activation\n",
    "#model=Sequential()\n",
    "\n",
    "\n",
    "#model.add(Dense(1000, input_dim=(1*1*512), activation='relu',kernel_initializer='uniform'))\n",
    "#keras.layers.core.Dropout(0.3, noise_shape=None, seed=None)\n",
    "\n",
    "\n",
    "#model.add(Dense(500,input_dim=1000,activation='sigmoid'))\n",
    "#keras.layers.core.Dropout(0.4, noise_shape=None, seed=None)\n",
    "\n",
    "\n",
    "#model.add(Dense(150,input_dim=500,activation='sigmoid'))\n",
    "#keras.layers.core.Dropout(0.2, noise_shape=None, seed=None)\n",
    "\n",
    "\n",
    "#model.add(Dense(units=10))\n",
    "#model.add(Activation('softmax'))\n",
    "\n",
    "\n",
    "#model.compile(loss='categorical_crossentropy', optimizer=\"adam\", metrics=['accuracy'])"
   ]
  },
  {
   "cell_type": "code",
   "execution_count": 41,
   "metadata": {},
   "outputs": [],
   "source": [
    "# fitting the model \n",
    "\n",
    "\n",
    "#model.fit(X_train, Y_train, epochs=20, batch_size=128,validation_data=(X_valid,Y_valid))"
   ]
  },
  {
   "cell_type": "code",
   "execution_count": 42,
   "metadata": {},
   "outputs": [
    {
     "name": "stderr",
     "output_type": "stream",
     "text": [
      "W0831 19:50:19.032657 140041286600512 deprecation.py:323] From /home/lemos/miniconda3/envs/av/lib/python3.7/site-packages/tensorflow/python/ops/math_grad.py:1250: add_dispatch_support.<locals>.wrapper (from tensorflow.python.ops.array_ops) is deprecated and will be removed in a future version.\n",
      "Instructions for updating:\n",
      "Use tf.where in 2.0, which has the same broadcast rule as np.where\n"
     ]
    },
    {
     "name": "stdout",
     "output_type": "stream",
     "text": [
      "Train on 2400 samples, validate on 600 samples\n",
      "Epoch 1/100\n",
      "2400/2400 [==============================] - 1s 349us/step - loss: 2.3408 - acc: 0.1163 - val_loss: 2.3510 - val_acc: 0.1350\n",
      "Epoch 2/100\n",
      "2400/2400 [==============================] - 0s 105us/step - loss: 2.3419 - acc: 0.1113 - val_loss: 2.3332 - val_acc: 0.0783\n",
      "Epoch 3/100\n",
      "2400/2400 [==============================] - 0s 100us/step - loss: 2.3361 - acc: 0.0983 - val_loss: 2.3260 - val_acc: 0.0817\n",
      "Epoch 4/100\n",
      "2400/2400 [==============================] - 0s 99us/step - loss: 2.3352 - acc: 0.0904 - val_loss: 2.3223 - val_acc: 0.0783\n",
      "Epoch 5/100\n",
      "2400/2400 [==============================] - 0s 118us/step - loss: 2.3203 - acc: 0.0946 - val_loss: 2.3154 - val_acc: 0.0817\n",
      "Epoch 6/100\n",
      "2400/2400 [==============================] - 0s 118us/step - loss: 2.3164 - acc: 0.1113 - val_loss: 2.3128 - val_acc: 0.1017\n",
      "Epoch 7/100\n",
      "2400/2400 [==============================] - 0s 107us/step - loss: 2.3260 - acc: 0.1029 - val_loss: 2.3128 - val_acc: 0.0850\n",
      "Epoch 8/100\n",
      "2400/2400 [==============================] - 0s 105us/step - loss: 2.3136 - acc: 0.1062 - val_loss: 2.3145 - val_acc: 0.1000\n",
      "\n",
      "Epoch 00008: ReduceLROnPlateau reducing learning rate to 0.00020000000949949026.\n",
      "Epoch 9/100\n",
      "2400/2400 [==============================] - 0s 102us/step - loss: 2.3083 - acc: 0.1054 - val_loss: 2.3051 - val_acc: 0.0783\n",
      "Epoch 10/100\n",
      "2400/2400 [==============================] - 0s 99us/step - loss: 2.3040 - acc: 0.1075 - val_loss: 2.3102 - val_acc: 0.0783\n",
      "Epoch 11/100\n",
      "2400/2400 [==============================] - 0s 101us/step - loss: 2.3049 - acc: 0.1104 - val_loss: 2.3096 - val_acc: 0.0783\n",
      "\n",
      "Epoch 00011: ReduceLROnPlateau reducing learning rate to 4.0000001899898055e-05.\n",
      "Epoch 12/100\n",
      "2400/2400 [==============================] - 0s 103us/step - loss: 2.3023 - acc: 0.1104 - val_loss: 2.3081 - val_acc: 0.0783\n",
      "Epoch 13/100\n",
      "2400/2400 [==============================] - 0s 99us/step - loss: 2.3021 - acc: 0.1104 - val_loss: 2.3069 - val_acc: 0.0783\n",
      "Epoch 14/100\n",
      "2400/2400 [==============================] - 0s 97us/step - loss: 2.3022 - acc: 0.1104 - val_loss: 2.3062 - val_acc: 0.0783\n",
      "\n",
      "Epoch 00014: ReduceLROnPlateau reducing learning rate to 8.000000525498762e-06.\n",
      "Epoch 15/100\n",
      "2400/2400 [==============================] - 0s 109us/step - loss: 2.3017 - acc: 0.1104 - val_loss: 2.3063 - val_acc: 0.0783\n",
      "Epoch 16/100\n",
      "2400/2400 [==============================] - 0s 114us/step - loss: 2.3017 - acc: 0.1104 - val_loss: 2.3063 - val_acc: 0.0783\n",
      "Epoch 00016: early stopping\n"
     ]
    }
   ],
   "source": [
    "# Train the the model\n",
    "history = model.fit(\n",
    "    train_features_flat,\n",
    "    train_label,\n",
    "    epochs=NB_EPOCHS,\n",
    "    validation_data=(val_features_flat, valid_label),\n",
    "    callbacks=callbacks\n",
    ")"
   ]
  },
  {
   "cell_type": "code",
   "execution_count": 43,
   "metadata": {},
   "outputs": [
    {
     "data": {
      "image/png": "[encoded data removed]",
      "text/plain": [
       "<Figure size 432x288 with 1 Axes>"
      ]
     },
     "metadata": {
      "needs_background": "light"
     },
     "output_type": "display_data"
    },
    {
     "data": {
      "image/png": "[encoded data removed]",
      "text/plain": [
       "<Figure size 432x288 with 1 Axes>"
      ]
     },
     "metadata": {
      "needs_background": "light"
     },
     "output_type": "display_data"
    }
   ],
   "source": [
    "# plot the loss and accuracy\n",
    "\n",
    "acc = history.history['acc']\n",
    "val_acc = history.history['val_acc']\n",
    "loss = history.history['loss']\n",
    "val_loss = history.history['val_loss']\n",
    "epochs = range(1, len(acc) + 1)\n",
    "\n",
    "plt.title('Training and validation accuracy')\n",
    "plt.plot(epochs, acc, 'red', label='Training acc')\n",
    "plt.plot(epochs, val_acc, 'blue', label='Validation acc')\n",
    "plt.legend()\n",
    "\n",
    "plt.figure()\n",
    "plt.title('Training and validation loss')\n",
    "plt.plot(epochs, loss, 'red', label='Training loss')\n",
    "plt.plot(epochs, val_loss, 'blue', label='Validation loss')\n",
    "\n",
    "plt.legend()\n",
    "\n",
    "plt.show()"
   ]
  },
  {
   "cell_type": "code",
   "execution_count": null,
   "metadata": {},
   "outputs": [],
   "source": []
  }
 ],
 "metadata": {
  "kernelspec": {
   "display_name": "Python 3",
   "language": "python",
   "name": "python3"
  },
  "language_info": {
   "codemirror_mode": {
    "name": "ipython",
    "version": 3
   },
   "file_extension": ".py",
   "mimetype": "text/x-python",
   "name": "python",
   "nbconvert_exporter": "python",
   "pygments_lexer": "ipython3",
   "version": "3.7.3"
  }
 },
 "nbformat": 4,
 "nbformat_minor": 2
}
