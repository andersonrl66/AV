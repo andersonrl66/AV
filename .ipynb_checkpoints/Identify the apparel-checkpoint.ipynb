{
 "cells": [
  {
   "cell_type": "code",
   "execution_count": 1,
   "metadata": {},
   "outputs": [
    {
     "name": "stderr",
     "output_type": "stream",
     "text": [
      "Using TensorFlow backend.\n"
     ]
    }
   ],
   "source": [
    "# importing required libraries\n",
    "\n",
    "from keras.models import Sequential\n",
    "from scipy.misc import imread\n",
    "get_ipython().magic('matplotlib inline')\n",
    "import matplotlib.pyplot as plt\n",
    "import numpy as np\n",
    "import keras\n",
    "from keras.layers import Dense\n",
    "import pandas as pd\n",
    "import cv2\n",
    "\n",
    "                                                                                                                                                                                                                                                                                                                                                                                                                                                                                                                                                                                                                                                                                                                                                                                                                                                                                                                                                                                                                                                                                                                                                                                                                                                                                                                                                                                                                                                                                                                                                                                                                                                                                                                                                                                                                                                                                                                                                                                                                                                                                                                                                                                                                                                                                                                                                                                                                                                                                                                                                                                                                                                                                                                                                                                                                                                                                                                                                                                                                                                                                                                                                                                                                                                                                                                                                                                                                                                                                                                                                                                                                                                                                                                                                                                                                                                                                                                                                                                                                                                                                                                                                                                                                                                                                                                                                                                            \n",
    "from keras.applications.vgg16 import VGG16\n",
    "from keras.preprocessing import image\n",
    "from keras.applications.vgg16 import preprocess_input\n",
    "import numpy as np\n",
    "from keras.applications.vgg16 import decode_predictions\n",
    "\n",
    "from scipy.misc import imresize"
   ]
  },
  {
   "cell_type": "code",
   "execution_count": 2,
   "metadata": {},
   "outputs": [
    {
     "name": "stdout",
     "output_type": "stream",
     "text": [
      "Loading MNIST data...\n",
      "x_train shape: (60000, 28, 28, 1) y_train shape: (60000, 10)\n",
      "x_test shape: (10000, 28, 28, 1) y_test shape (10000, 10)\n"
     ]
    }
   ],
   "source": [
    "from keras.datasets import mnist\n",
    "from keras import backend as K\n",
    "# load and pre-process data\n",
    "\n",
    "if K.image_data_format() == 'channels_first':\n",
    "    input_shape = (1, 28, 28)  # image shape\n",
    "else:\n",
    "    input_shape = (28, 28, 1)  # image shape\n",
    "    \n",
    "def preprocess_input(x):\n",
    "    return x.astype('float32').reshape((-1,) + input_shape) / 255\n",
    "\n",
    "\n",
    "def preprocess_output(y):\n",
    "    return keras.utils.to_categorical(y)\n",
    "\n",
    "(x_train, y_train), (x_test, y_test) = mnist.load_data()\n",
    "x_train, x_test = map(preprocess_input, [x_train, x_test])\n",
    "y_train, y_test = map(preprocess_output, [y_train, y_test])\n",
    "print('Loading MNIST data...')\n",
    "print('x_train shape:', x_train.shape, 'y_train shape:', y_train.shape)\n",
    "print('x_test shape:', x_test.shape, 'y_test shape', y_test.shape)"
   ]
  },
  {
   "cell_type": "code",
   "execution_count": 3,
   "metadata": {},
   "outputs": [],
   "source": [
    "# read images\n",
    "\n",
    "#from mnist import MNIST\n",
    "\n",
    "#train_path=\"/home/lemos/Cursos/a-comprehensive-learning-path-for-deep-learning-in-2019/Identify the digits/Images/pretrained/uncompressed\"\n",
    "#test_path=\"/home/lemos/Cursos/a-comprehensive-learning-path-for-deep-learning-in-2019/Identify the digits/Images/pretrained/uncompressed\"\n",
    "\n",
    "#mndata = MNIST(train_path)\n",
    "\n",
    "#train, train_labels = mndata.load_training()\n",
    "#test, test_labels = mndata.load_testing()"
   ]
  },
  {
   "cell_type": "code",
   "execution_count": 4,
   "metadata": {},
   "outputs": [],
   "source": [
    "from PIL import Image\n",
    "\n",
    "# preparing the train dataset\n",
    "train_img=[]\n",
    "#for i in range(len(train)):\n",
    "for i in range(3000):\n",
    "    temp_img = Image.new(\"L\", (28, 28))\n",
    "    temp_img.putdata(x_train[i])\n",
    "    temp_img = temp_img.resize((224,224)).convert('RGB')\n",
    "    temp_img = image.img_to_array(temp_img)\n",
    "    train_img.append(temp_img)\n",
    "    \n"
   ]
  },
  {
   "cell_type": "code",
   "execution_count": 5,
   "metadata": {},
   "outputs": [],
   "source": [
    "\n",
    "#converting train images to array and applying mean subtraction processing\n",
    "\n",
    "train_img=np.array(train_img) \n",
    "#train_img=preprocess_input(train_img)\n"
   ]
  },
  {
   "cell_type": "code",
   "execution_count": 6,
   "metadata": {},
   "outputs": [],
   "source": [
    "# preparing the test dataset\n",
    "test_img=[]\n",
    "#for i in range(len(test)):\n",
    "for i in range(200):\n",
    "    temp_img = Image.new(\"L\", (28, 28))\n",
    "    temp_img.putdata(x_test[i])\n",
    "    temp_img = temp_img.resize((224,224)).convert('RGB')\n",
    "    temp_img = image.img_to_array(temp_img)\n",
    "    test_img.append(temp_img)"
   ]
  },
  {
   "cell_type": "code",
   "execution_count": 7,
   "metadata": {},
   "outputs": [],
   "source": [
    "#converting test images to array and applying mean subtraction processing\n",
    "\n",
    "test_img=np.array(test_img) \n",
    "#test_img=preprocess_input(test_img)"
   ]
  },
  {
   "cell_type": "code",
   "execution_count": 8,
   "metadata": {},
   "outputs": [
    {
     "name": "stderr",
     "output_type": "stream",
     "text": [
      "WARNING: Logging before flag parsing goes to stderr.\n",
      "W0813 19:01:02.657287 140524563666752 deprecation_wrapper.py:119] From /home/lemos/miniconda3/envs/av/lib/python3.7/site-packages/keras/backend/tensorflow_backend.py:74: The name tf.get_default_graph is deprecated. Please use tf.compat.v1.get_default_graph instead.\n",
      "\n",
      "W0813 19:01:02.911131 140524563666752 deprecation_wrapper.py:119] From /home/lemos/miniconda3/envs/av/lib/python3.7/site-packages/keras/backend/tensorflow_backend.py:517: The name tf.placeholder is deprecated. Please use tf.compat.v1.placeholder instead.\n",
      "\n",
      "W0813 19:01:02.933008 140524563666752 deprecation_wrapper.py:119] From /home/lemos/miniconda3/envs/av/lib/python3.7/site-packages/keras/backend/tensorflow_backend.py:4138: The name tf.random_uniform is deprecated. Please use tf.random.uniform instead.\n",
      "\n",
      "W0813 19:01:02.980840 140524563666752 deprecation_wrapper.py:119] From /home/lemos/miniconda3/envs/av/lib/python3.7/site-packages/keras/backend/tensorflow_backend.py:3976: The name tf.nn.max_pool is deprecated. Please use tf.nn.max_pool2d instead.\n",
      "\n",
      "W0813 19:01:03.878990 140524563666752 deprecation_wrapper.py:119] From /home/lemos/miniconda3/envs/av/lib/python3.7/site-packages/keras/backend/tensorflow_backend.py:174: The name tf.get_default_session is deprecated. Please use tf.compat.v1.get_default_session instead.\n",
      "\n",
      "W0813 19:01:03.879635 140524563666752 deprecation_wrapper.py:119] From /home/lemos/miniconda3/envs/av/lib/python3.7/site-packages/keras/backend/tensorflow_backend.py:181: The name tf.ConfigProto is deprecated. Please use tf.compat.v1.ConfigProto instead.\n",
      "\n"
     ]
    }
   ],
   "source": [
    "# loading VGG16 model weights\n",
    "model = VGG16(weights='imagenet', include_top=False)\n",
    "# Extracting features from the train dataset using the VGG16 pre-trained model\n",
    "features_train=model.predict(train_img)\n",
    "# Extracting features from the test dataset using the VGG16 pre-trained model\n",
    "features_test=model.predict(test_img)\n",
    "# flattening the layers to conform to MLP input\n",
    "train_x=features_train.reshape(3000,25088)"
   ]
  },
  {
   "cell_type": "code",
   "execution_count": 16,
   "metadata": {},
   "outputs": [],
   "source": [
    "train_y=np.array(y_train[0:3000])\n",
    "# creating training and validation set\n",
    "\n",
    "\n",
    "from sklearn.model_selection import train_test_split\n",
    "X_train, X_valid, Y_train, Y_valid=train_test_split(train_x,train_y,test_size=0.3, random_state=42)"
   ]
  },
  {
   "cell_type": "code",
   "execution_count": 17,
   "metadata": {},
   "outputs": [
    {
     "name": "stderr",
     "output_type": "stream",
     "text": [
      "W0813 19:38:26.221021 140524563666752 deprecation_wrapper.py:119] From /home/lemos/miniconda3/envs/av/lib/python3.7/site-packages/keras/optimizers.py:790: The name tf.train.Optimizer is deprecated. Please use tf.compat.v1.train.Optimizer instead.\n",
      "\n"
     ]
    }
   ],
   "source": [
    "# creating a mlp model\n",
    "from keras.layers import Dense, Activation\n",
    "model=Sequential()\n",
    "\n",
    "\n",
    "model.add(Dense(1000, input_dim=25088, activation='relu',kernel_initializer='uniform'))\n",
    "keras.layers.core.Dropout(0.3, noise_shape=None, seed=None)\n",
    "\n",
    "\n",
    "model.add(Dense(500,input_dim=1000,activation='sigmoid'))\n",
    "keras.layers.core.Dropout(0.4, noise_shape=None, seed=None)\n",
    "\n",
    "\n",
    "model.add(Dense(150,input_dim=500,activation='sigmoid'))\n",
    "keras.layers.core.Dropout(0.2, noise_shape=None, seed=None)\n",
    "\n",
    "\n",
    "model.add(Dense(units=10))\n",
    "model.add(Activation('softmax'))\n",
    "\n",
    "\n",
    "model.compile(loss='categorical_crossentropy', optimizer=\"adam\", metrics=['accuracy'])"
   ]
  },
  {
   "cell_type": "code",
   "execution_count": 18,
   "metadata": {},
   "outputs": [
    {
     "name": "stderr",
     "output_type": "stream",
     "text": [
      "W0813 19:41:42.876364 140524563666752 deprecation.py:323] From /home/lemos/miniconda3/envs/av/lib/python3.7/site-packages/tensorflow/python/ops/math_grad.py:1250: add_dispatch_support.<locals>.wrapper (from tensorflow.python.ops.array_ops) is deprecated and will be removed in a future version.\n",
      "Instructions for updating:\n",
      "Use tf.where in 2.0, which has the same broadcast rule as np.where\n"
     ]
    },
    {
     "name": "stdout",
     "output_type": "stream",
     "text": [
      "Train on 2100 samples, validate on 900 samples\n",
      "Epoch 1/20\n",
      "2100/2100 [==============================] - 6s 3ms/step - loss: 2.3488 - acc: 0.0933 - val_loss: 2.3164 - val_acc: 0.1178\n",
      "Epoch 2/20\n",
      "2100/2100 [==============================] - 5s 2ms/step - loss: 2.3156 - acc: 0.1057 - val_loss: 2.3161 - val_acc: 0.1178\n",
      "Epoch 3/20\n",
      "2100/2100 [==============================] - 5s 2ms/step - loss: 2.3270 - acc: 0.1024 - val_loss: 2.3257 - val_acc: 0.1011\n",
      "Epoch 4/20\n",
      "2100/2100 [==============================] - 5s 2ms/step - loss: 2.3172 - acc: 0.1100 - val_loss: 2.3118 - val_acc: 0.1178\n",
      "Epoch 5/20\n",
      "2100/2100 [==============================] - 5s 2ms/step - loss: 2.3186 - acc: 0.0929 - val_loss: 2.3195 - val_acc: 0.1178\n",
      "Epoch 6/20\n",
      "2100/2100 [==============================] - 5s 2ms/step - loss: 2.3136 - acc: 0.0981 - val_loss: 2.3107 - val_acc: 0.1056\n",
      "Epoch 7/20\n",
      "2100/2100 [==============================] - 5s 2ms/step - loss: 2.3158 - acc: 0.1019 - val_loss: 2.3207 - val_acc: 0.0844\n",
      "Epoch 8/20\n",
      "2100/2100 [==============================] - 5s 2ms/step - loss: 2.3071 - acc: 0.0900 - val_loss: 2.3067 - val_acc: 0.1100\n",
      "Epoch 9/20\n",
      "2100/2100 [==============================] - 5s 2ms/step - loss: 2.3085 - acc: 0.1090 - val_loss: 2.3032 - val_acc: 0.1178\n",
      "Epoch 10/20\n",
      "2100/2100 [==============================] - 5s 2ms/step - loss: 2.3084 - acc: 0.1057 - val_loss: 2.3173 - val_acc: 0.1178\n",
      "Epoch 11/20\n",
      "2100/2100 [==============================] - 5s 2ms/step - loss: 2.3237 - acc: 0.1062 - val_loss: 2.3120 - val_acc: 0.1100\n",
      "Epoch 12/20\n",
      "2100/2100 [==============================] - 5s 2ms/step - loss: 2.3125 - acc: 0.1071 - val_loss: 2.3010 - val_acc: 0.1100\n",
      "Epoch 13/20\n",
      "2100/2100 [==============================] - 5s 2ms/step - loss: 2.3094 - acc: 0.0938 - val_loss: 2.3096 - val_acc: 0.1056\n",
      "Epoch 14/20\n",
      "2100/2100 [==============================] - 5s 2ms/step - loss: 2.3120 - acc: 0.1043 - val_loss: 2.3086 - val_acc: 0.0844\n",
      "Epoch 15/20\n",
      "2100/2100 [==============================] - 5s 2ms/step - loss: 2.3077 - acc: 0.1048 - val_loss: 2.3086 - val_acc: 0.1056\n",
      "Epoch 16/20\n",
      "2100/2100 [==============================] - 5s 2ms/step - loss: 2.3089 - acc: 0.1105 - val_loss: 2.3093 - val_acc: 0.0844\n",
      "Epoch 17/20\n",
      "2100/2100 [==============================] - 5s 2ms/step - loss: 2.3111 - acc: 0.1114 - val_loss: 2.3089 - val_acc: 0.1011\n",
      "Epoch 18/20\n",
      "2100/2100 [==============================] - 5s 2ms/step - loss: 2.3115 - acc: 0.0990 - val_loss: 2.3041 - val_acc: 0.1100\n",
      "Epoch 19/20\n",
      "2100/2100 [==============================] - 5s 2ms/step - loss: 2.3067 - acc: 0.0981 - val_loss: 2.3017 - val_acc: 0.1056\n",
      "Epoch 20/20\n",
      "2100/2100 [==============================] - 5s 2ms/step - loss: 2.3061 - acc: 0.0995 - val_loss: 2.3063 - val_acc: 0.1056\n"
     ]
    },
    {
     "data": {
      "text/plain": [
       "<keras.callbacks.History at 0x7fcd6d377ac8>"
      ]
     },
     "execution_count": 18,
     "metadata": {},
     "output_type": "execute_result"
    }
   ],
   "source": [
    "# fitting the model \n",
    "\n",
    "\n",
    "model.fit(X_train, Y_train, epochs=20, batch_size=128,validation_data=(X_valid,Y_valid))"
   ]
  },
  {
   "cell_type": "code",
   "execution_count": null,
   "metadata": {},
   "outputs": [],
   "source": []
  }
 ],
 "metadata": {
  "kernelspec": {
   "display_name": "Python 3",
   "language": "python",
   "name": "python3"
  },
  "language_info": {
   "codemirror_mode": {
    "name": "ipython",
    "version": 3
   },
   "file_extension": ".py",
   "mimetype": "text/x-python",
   "name": "python",
   "nbconvert_exporter": "python",
   "pygments_lexer": "ipython3",
   "version": "3.7.3"
  }
 },
 "nbformat": 4,
 "nbformat_minor": 2
}
