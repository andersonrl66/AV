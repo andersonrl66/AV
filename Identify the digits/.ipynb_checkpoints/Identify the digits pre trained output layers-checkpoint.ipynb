{
 "cells": [
  {
   "cell_type": "code",
   "execution_count": 1,
   "metadata": {},
   "outputs": [
    {
     "name": "stderr",
     "output_type": "stream",
     "text": [
      "Using TensorFlow backend.\n"
     ]
    }
   ],
   "source": [
    "# importing required libraries\n",
    "\n",
    "from keras.models import Sequential\n",
    "from scipy.misc import imread\n",
    "get_ipython().magic('matplotlib inline')\n",
    "import matplotlib.pyplot as plt\n",
    "import numpy as np\n",
    "import keras\n",
    "from keras.layers import Dense\n",
    "import pandas as pd\n",
    "import cv2\n",
    "\n",
    "                                                                                                                                                                                                                                                                                                                                                                                                                                                                                                                                                                                                                                                                                                                                                                                                                                                                                                                                                                                                                                                                                                                                                                                                                                                                                                                                                                                                                                                                                                                                                                                                                                                                                                                                                                                                                                                                                                                                                                                                                                                                                                                                                                                                                                                                                                                                                                                                                                                                                                                                                                                                                                                                                                                                                                                                                                                                                                                                                                                                                                                                                                                                                                                                                                                                                                                                                                                                                                                                                                                                                                                                                                                                                                                                                                                                                                                                                                                                                                                                                                                                                                                                                                                                                                                                                                                                                                                            \n",
    "from keras.applications.vgg16 import VGG16\n",
    "from keras.preprocessing import image\n",
    "from keras.applications.vgg16 import preprocess_input\n",
    "import numpy as np\n",
    "from keras.applications.vgg16 import decode_predictions\n",
    "\n",
    "from scipy.misc import imresize"
   ]
  },
  {
   "cell_type": "code",
   "execution_count": 2,
   "metadata": {},
   "outputs": [
    {
     "name": "stdout",
     "output_type": "stream",
     "text": [
      "Loading MNIST data...\n",
      "x_train shape: (60000, 28, 28, 1) y_train shape: (60000, 10)\n",
      "x_test shape: (10000, 28, 28, 1) y_test shape (10000, 10)\n"
     ]
    }
   ],
   "source": [
    "from keras.datasets import mnist\n",
    "from keras import backend as K\n",
    "# load and pre-process data\n",
    "\n",
    "if K.image_data_format() == 'channels_first':\n",
    "    input_shape = (1, 28, 28)  # image shape\n",
    "else:\n",
    "    input_shape = (28, 28, 1)  # image shape\n",
    "    \n",
    "def preprocess_input(x):\n",
    "    return x.astype('float32').reshape((-1,) + input_shape) / 255\n",
    "\n",
    "\n",
    "def preprocess_output(y):\n",
    "    return keras.utils.to_categorical(y)\n",
    "\n",
    "(x_train, y_train), (x_test, y_test) = mnist.load_data()\n",
    "x_train, x_test = map(preprocess_input, [x_train, x_test])\n",
    "y_train, y_test = map(preprocess_output, [y_train, y_test])\n",
    "print('Loading MNIST data...')\n",
    "print('x_train shape:', x_train.shape, 'y_train shape:', y_train.shape)\n",
    "print('x_test shape:', x_test.shape, 'y_test shape', y_test.shape)"
   ]
  },
  {
   "cell_type": "code",
   "execution_count": 3,
   "metadata": {},
   "outputs": [],
   "source": [
    "# read images\n",
    "\n",
    "#from mnist import MNIST\n",
    "\n",
    "#train_path=\"/home/lemos/Cursos/a-comprehensive-learning-path-for-deep-learning-in-2019/Identify the digits/Images/pretrained/uncompressed\"\n",
    "#test_path=\"/home/lemos/Cursos/a-comprehensive-learning-path-for-deep-learning-in-2019/Identify the digits/Images/pretrained/uncompressed\"\n",
    "\n",
    "#mndata = MNIST(train_path)\n",
    "\n",
    "#train, train_labels = mndata.load_training()\n",
    "#test, test_labels = mndata.load_testing()"
   ]
  },
  {
   "cell_type": "code",
   "execution_count": 4,
   "metadata": {},
   "outputs": [],
   "source": [
    "from PIL import Image\n",
    "\n",
    "# preparing the train dataset\n",
    "train_img=[]\n",
    "#for i in range(len(train)):\n",
    "for i in range(3000):\n",
    "    temp_img = Image.new(\"L\", (28, 28))\n",
    "    temp_img.putdata(x_train[i])\n",
    "    temp_img = temp_img.resize((224,224)).convert('RGB')\n",
    "    temp_img = image.img_to_array(temp_img)\n",
    "    train_img.append(temp_img)\n",
    "    \n"
   ]
  },
  {
   "cell_type": "code",
   "execution_count": 5,
   "metadata": {},
   "outputs": [],
   "source": [
    "\n",
    "#converting train images to array and applying mean subtraction processing\n",
    "\n",
    "train_img=np.array(train_img) \n",
    "#train_img=preprocess_input(train_img)\n"
   ]
  },
  {
   "cell_type": "code",
   "execution_count": 12,
   "metadata": {},
   "outputs": [],
   "source": [
    "# preparing the test dataset\n",
    "test_img=[]\n",
    "#for i in range(len(test)):\n",
    "for i in range(200):\n",
    "    temp_img = Image.new(\"L\", (28, 28))\n",
    "    temp_img.putdata(x_test[i])\n",
    "    temp_img = temp_img.resize((224,224)).convert('RGB')\n",
    "    temp_img = image.img_to_array(temp_img)\n",
    "    test_img.append(temp_img)"
   ]
  },
  {
   "cell_type": "code",
   "execution_count": 13,
   "metadata": {},
   "outputs": [],
   "source": [
    "#converting test images to array and applying mean subtraction processing\n",
    "\n",
    "test_img=np.array(test_img) \n",
    "#test_img=preprocess_input(test_img)"
   ]
  },
  {
   "cell_type": "code",
   "execution_count": 14,
   "metadata": {},
   "outputs": [],
   "source": [
    "# loading VGG16 model weights\n",
    "model = VGG16(weights='imagenet', include_top=False)\n",
    "# Extracting features from the train dataset using the VGG16 pre-trained model\n",
    "features_train=model.predict(train_img)\n",
    "# Extracting features from the test dataset using the VGG16 pre-trained model\n",
    "features_test=model.predict(test_img)\n",
    "# flattening the layers to conform to MLP input\n",
    "train_x=features_train.reshape(3000,25088)"
   ]
  },
  {
   "cell_type": "code",
   "execution_count": null,
   "metadata": {},
   "outputs": [],
   "source": []
  }
 ],
 "metadata": {
  "kernelspec": {
   "display_name": "Python 3",
   "language": "python",
   "name": "python3"
  },
  "language_info": {
   "codemirror_mode": {
    "name": "ipython",
    "version": 3
   },
   "file_extension": ".py",
   "mimetype": "text/x-python",
   "name": "python",
   "nbconvert_exporter": "python",
   "pygments_lexer": "ipython3",
   "version": "3.7.3"
  }
 },
 "nbformat": 4,
 "nbformat_minor": 2
}
