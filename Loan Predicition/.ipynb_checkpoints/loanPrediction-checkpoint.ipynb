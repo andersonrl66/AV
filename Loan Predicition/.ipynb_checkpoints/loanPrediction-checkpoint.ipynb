{
 "cells": [
  {
   "cell_type": "markdown",
   "metadata": {},
   "source": [
    "# Loan Prediction"
   ]
  },
  {
   "cell_type": "code",
   "execution_count": 73,
   "metadata": {},
   "outputs": [
    {
     "data": {
      "text/plain": [
       "Loan_ID               object\n",
       "Gender                object\n",
       "Married               object\n",
       "Dependents            object\n",
       "Education             object\n",
       "Self_Employed         object\n",
       "ApplicantIncome        int64\n",
       "CoapplicantIncome    float64\n",
       "LoanAmount           float64\n",
       "Loan_Amount_Term     float64\n",
       "Credit_History       float64\n",
       "Property_Area         object\n",
       "Loan_Status           object\n",
       "dtype: object"
      ]
     },
     "execution_count": 73,
     "metadata": {},
     "output_type": "execute_result"
    }
   ],
   "source": [
    "import pandas as pd\n",
    "import numpy as np\n",
    "from sklearn import preprocessing\n",
    "import matplotlib.pyplot as plt\n",
    "plt.rc(\"font\", size=14)\n",
    "from sklearn.linear_model import LogisticRegression\n",
    "from sklearn.model_selection import train_test_split\n",
    "import seaborn as sns\n",
    "sns.set(style=\"white\")\n",
    "sns.set(style=\"whitegrid\", color_codes=True)\n",
    "df = pd.read_csv(\"train_u6lujuX_CVtuZ9i.csv\")\n",
    "df.dtypes\n",
    "\n"
   ]
  },
  {
   "cell_type": "code",
   "execution_count": 74,
   "metadata": {},
   "outputs": [
    {
     "data": {
      "image/png": "[encoded data removed]",
      "text/plain": [
       "<Figure size 432x288 with 1 Axes>"
      ]
     },
     "metadata": {},
     "output_type": "display_data"
    },
    {
     "data": {
      "text/plain": [
       "<Figure size 432x288 with 0 Axes>"
      ]
     },
     "metadata": {},
     "output_type": "display_data"
    }
   ],
   "source": [
    "sns.countplot(x='Loan_Status', data=df, palette='hls')\n",
    "plt.show()\n",
    "plt.savefig('count_plot')"
   ]
  },
  {
   "cell_type": "code",
   "execution_count": 75,
   "metadata": {},
   "outputs": [
    {
     "name": "stdout",
     "output_type": "stream",
     "text": [
      "percentage of aproved is 68.72964169381108\n",
      "percentage of not aproved 31.27035830618892\n"
     ]
    }
   ],
   "source": [
    "count_aprov = len(df[df['Loan_Status']=='Y'])\n",
    "count_not_aprov = len(df[df['Loan_Status']=='N'])\n",
    "pct_of_aprov = count_aprov/(count_aprov+count_not_aprov)\n",
    "print(\"percentage of aproved is\", pct_of_aprov*100)\n",
    "pct_of_not_aprov = count_not_aprov/(count_aprov+count_not_aprov)\n",
    "print(\"percentage of not aproved\", pct_of_not_aprov*100)"
   ]
  },
  {
   "cell_type": "code",
   "execution_count": 76,
   "metadata": {},
   "outputs": [
    {
     "data": {
      "text/html": [
       "<div>\n",
       "<style scoped>\n",
       "    .dataframe tbody tr th:only-of-type {\n",
       "        vertical-align: middle;\n",
       "    }\n",
       "\n",
       "    .dataframe tbody tr th {\n",
       "        vertical-align: top;\n",
       "    }\n",
       "\n",
       "    .dataframe thead th {\n",
       "        text-align: right;\n",
       "    }\n",
       "</style>\n",
       "<table border=\"1\" class=\"dataframe\">\n",
       "  <thead>\n",
       "    <tr style=\"text-align: right;\">\n",
       "      <th></th>\n",
       "      <th>ApplicantIncome</th>\n",
       "      <th>CoapplicantIncome</th>\n",
       "      <th>LoanAmount</th>\n",
       "      <th>Loan_Amount_Term</th>\n",
       "      <th>Credit_History</th>\n",
       "    </tr>\n",
       "    <tr>\n",
       "      <th>Loan_Status</th>\n",
       "      <th></th>\n",
       "      <th></th>\n",
       "      <th></th>\n",
       "      <th></th>\n",
       "      <th></th>\n",
       "    </tr>\n",
       "  </thead>\n",
       "  <tbody>\n",
       "    <tr>\n",
       "      <th>N</th>\n",
       "      <td>5446.078125</td>\n",
       "      <td>1877.807292</td>\n",
       "      <td>151.220994</td>\n",
       "      <td>344.064516</td>\n",
       "      <td>0.541899</td>\n",
       "    </tr>\n",
       "    <tr>\n",
       "      <th>Y</th>\n",
       "      <td>5384.068720</td>\n",
       "      <td>1504.516398</td>\n",
       "      <td>144.294404</td>\n",
       "      <td>341.072464</td>\n",
       "      <td>0.981818</td>\n",
       "    </tr>\n",
       "  </tbody>\n",
       "</table>\n",
       "</div>"
      ],
      "text/plain": [
       "             ApplicantIncome  CoapplicantIncome  LoanAmount  Loan_Amount_Term  \\\n",
       "Loan_Status                                                                     \n",
       "N                5446.078125        1877.807292  151.220994        344.064516   \n",
       "Y                5384.068720        1504.516398  144.294404        341.072464   \n",
       "\n",
       "             Credit_History  \n",
       "Loan_Status                  \n",
       "N                  0.541899  \n",
       "Y                  0.981818  "
      ]
     },
     "execution_count": 76,
     "metadata": {},
     "output_type": "execute_result"
    }
   ],
   "source": [
    "df.groupby(['Loan_Status']).mean()"
   ]
  },
  {
   "cell_type": "code",
   "execution_count": 77,
   "metadata": {},
   "outputs": [
    {
     "data": {
      "text/html": [
       "<div>\n",
       "<style scoped>\n",
       "    .dataframe tbody tr th:only-of-type {\n",
       "        vertical-align: middle;\n",
       "    }\n",
       "\n",
       "    .dataframe tbody tr th {\n",
       "        vertical-align: top;\n",
       "    }\n",
       "\n",
       "    .dataframe thead th {\n",
       "        text-align: right;\n",
       "    }\n",
       "</style>\n",
       "<table border=\"1\" class=\"dataframe\">\n",
       "  <thead>\n",
       "    <tr style=\"text-align: right;\">\n",
       "      <th></th>\n",
       "      <th></th>\n",
       "      <th>Loan_ID</th>\n",
       "      <th>Married</th>\n",
       "      <th>Dependents</th>\n",
       "      <th>Education</th>\n",
       "      <th>Self_Employed</th>\n",
       "      <th>ApplicantIncome</th>\n",
       "      <th>CoapplicantIncome</th>\n",
       "      <th>LoanAmount</th>\n",
       "      <th>Loan_Amount_Term</th>\n",
       "      <th>Credit_History</th>\n",
       "      <th>Property_Area</th>\n",
       "    </tr>\n",
       "    <tr>\n",
       "      <th>Loan_Status</th>\n",
       "      <th>Gender</th>\n",
       "      <th></th>\n",
       "      <th></th>\n",
       "      <th></th>\n",
       "      <th></th>\n",
       "      <th></th>\n",
       "      <th></th>\n",
       "      <th></th>\n",
       "      <th></th>\n",
       "      <th></th>\n",
       "      <th></th>\n",
       "      <th></th>\n",
       "    </tr>\n",
       "  </thead>\n",
       "  <tbody>\n",
       "    <tr>\n",
       "      <th rowspan=\"2\" valign=\"top\">N</th>\n",
       "      <th>Female</th>\n",
       "      <td>37</td>\n",
       "      <td>37</td>\n",
       "      <td>36</td>\n",
       "      <td>37</td>\n",
       "      <td>35</td>\n",
       "      <td>37</td>\n",
       "      <td>37</td>\n",
       "      <td>36</td>\n",
       "      <td>36</td>\n",
       "      <td>36</td>\n",
       "      <td>37</td>\n",
       "    </tr>\n",
       "    <tr>\n",
       "      <th>Male</th>\n",
       "      <td>150</td>\n",
       "      <td>150</td>\n",
       "      <td>145</td>\n",
       "      <td>150</td>\n",
       "      <td>143</td>\n",
       "      <td>150</td>\n",
       "      <td>150</td>\n",
       "      <td>140</td>\n",
       "      <td>145</td>\n",
       "      <td>138</td>\n",
       "      <td>150</td>\n",
       "    </tr>\n",
       "    <tr>\n",
       "      <th rowspan=\"2\" valign=\"top\">Y</th>\n",
       "      <th>Female</th>\n",
       "      <td>75</td>\n",
       "      <td>74</td>\n",
       "      <td>73</td>\n",
       "      <td>75</td>\n",
       "      <td>69</td>\n",
       "      <td>75</td>\n",
       "      <td>75</td>\n",
       "      <td>73</td>\n",
       "      <td>73</td>\n",
       "      <td>65</td>\n",
       "      <td>75</td>\n",
       "    </tr>\n",
       "    <tr>\n",
       "      <th>Male</th>\n",
       "      <td>339</td>\n",
       "      <td>337</td>\n",
       "      <td>332</td>\n",
       "      <td>339</td>\n",
       "      <td>322</td>\n",
       "      <td>339</td>\n",
       "      <td>339</td>\n",
       "      <td>330</td>\n",
       "      <td>333</td>\n",
       "      <td>313</td>\n",
       "      <td>339</td>\n",
       "    </tr>\n",
       "  </tbody>\n",
       "</table>\n",
       "</div>"
      ],
      "text/plain": [
       "                    Loan_ID  Married  Dependents  Education  Self_Employed  \\\n",
       "Loan_Status Gender                                                           \n",
       "N           Female       37       37          36         37             35   \n",
       "            Male        150      150         145        150            143   \n",
       "Y           Female       75       74          73         75             69   \n",
       "            Male        339      337         332        339            322   \n",
       "\n",
       "                    ApplicantIncome  CoapplicantIncome  LoanAmount  \\\n",
       "Loan_Status Gender                                                   \n",
       "N           Female               37                 37          36   \n",
       "            Male                150                150         140   \n",
       "Y           Female               75                 75          73   \n",
       "            Male                339                339         330   \n",
       "\n",
       "                    Loan_Amount_Term  Credit_History  Property_Area  \n",
       "Loan_Status Gender                                                   \n",
       "N           Female                36              36             37  \n",
       "            Male                 145             138            150  \n",
       "Y           Female                73              65             75  \n",
       "            Male                 333             313            339  "
      ]
     },
     "execution_count": 77,
     "metadata": {},
     "output_type": "execute_result"
    }
   ],
   "source": [
    "df.groupby(['Loan_Status','Gender']).count()"
   ]
  },
  {
   "cell_type": "code",
   "execution_count": 78,
   "metadata": {},
   "outputs": [
    {
     "data": {
      "text/html": [
       "<div>\n",
       "<style scoped>\n",
       "    .dataframe tbody tr th:only-of-type {\n",
       "        vertical-align: middle;\n",
       "    }\n",
       "\n",
       "    .dataframe tbody tr th {\n",
       "        vertical-align: top;\n",
       "    }\n",
       "\n",
       "    .dataframe thead th {\n",
       "        text-align: right;\n",
       "    }\n",
       "</style>\n",
       "<table border=\"1\" class=\"dataframe\">\n",
       "  <thead>\n",
       "    <tr style=\"text-align: right;\">\n",
       "      <th></th>\n",
       "      <th></th>\n",
       "      <th>Loan_ID</th>\n",
       "      <th>Gender</th>\n",
       "      <th>Dependents</th>\n",
       "      <th>Education</th>\n",
       "      <th>Self_Employed</th>\n",
       "      <th>ApplicantIncome</th>\n",
       "      <th>CoapplicantIncome</th>\n",
       "      <th>LoanAmount</th>\n",
       "      <th>Loan_Amount_Term</th>\n",
       "      <th>Credit_History</th>\n",
       "      <th>Property_Area</th>\n",
       "    </tr>\n",
       "    <tr>\n",
       "      <th>Loan_Status</th>\n",
       "      <th>Married</th>\n",
       "      <th></th>\n",
       "      <th></th>\n",
       "      <th></th>\n",
       "      <th></th>\n",
       "      <th></th>\n",
       "      <th></th>\n",
       "      <th></th>\n",
       "      <th></th>\n",
       "      <th></th>\n",
       "      <th></th>\n",
       "      <th></th>\n",
       "    </tr>\n",
       "  </thead>\n",
       "  <tbody>\n",
       "    <tr>\n",
       "      <th rowspan=\"2\" valign=\"top\">N</th>\n",
       "      <th>No</th>\n",
       "      <td>79</td>\n",
       "      <td>78</td>\n",
       "      <td>77</td>\n",
       "      <td>79</td>\n",
       "      <td>75</td>\n",
       "      <td>79</td>\n",
       "      <td>79</td>\n",
       "      <td>75</td>\n",
       "      <td>77</td>\n",
       "      <td>74</td>\n",
       "      <td>79</td>\n",
       "    </tr>\n",
       "    <tr>\n",
       "      <th>Yes</th>\n",
       "      <td>113</td>\n",
       "      <td>109</td>\n",
       "      <td>109</td>\n",
       "      <td>113</td>\n",
       "      <td>108</td>\n",
       "      <td>113</td>\n",
       "      <td>113</td>\n",
       "      <td>106</td>\n",
       "      <td>109</td>\n",
       "      <td>105</td>\n",
       "      <td>113</td>\n",
       "    </tr>\n",
       "    <tr>\n",
       "      <th rowspan=\"2\" valign=\"top\">Y</th>\n",
       "      <th>No</th>\n",
       "      <td>134</td>\n",
       "      <td>132</td>\n",
       "      <td>132</td>\n",
       "      <td>134</td>\n",
       "      <td>124</td>\n",
       "      <td>134</td>\n",
       "      <td>134</td>\n",
       "      <td>131</td>\n",
       "      <td>131</td>\n",
       "      <td>125</td>\n",
       "      <td>134</td>\n",
       "    </tr>\n",
       "    <tr>\n",
       "      <th>Yes</th>\n",
       "      <td>285</td>\n",
       "      <td>279</td>\n",
       "      <td>281</td>\n",
       "      <td>285</td>\n",
       "      <td>272</td>\n",
       "      <td>285</td>\n",
       "      <td>285</td>\n",
       "      <td>278</td>\n",
       "      <td>280</td>\n",
       "      <td>257</td>\n",
       "      <td>285</td>\n",
       "    </tr>\n",
       "  </tbody>\n",
       "</table>\n",
       "</div>"
      ],
      "text/plain": [
       "                     Loan_ID  Gender  Dependents  Education  Self_Employed  \\\n",
       "Loan_Status Married                                                          \n",
       "N           No            79      78          77         79             75   \n",
       "            Yes          113     109         109        113            108   \n",
       "Y           No           134     132         132        134            124   \n",
       "            Yes          285     279         281        285            272   \n",
       "\n",
       "                     ApplicantIncome  CoapplicantIncome  LoanAmount  \\\n",
       "Loan_Status Married                                                   \n",
       "N           No                    79                 79          75   \n",
       "            Yes                  113                113         106   \n",
       "Y           No                   134                134         131   \n",
       "            Yes                  285                285         278   \n",
       "\n",
       "                     Loan_Amount_Term  Credit_History  Property_Area  \n",
       "Loan_Status Married                                                   \n",
       "N           No                     77              74             79  \n",
       "            Yes                   109             105            113  \n",
       "Y           No                    131             125            134  \n",
       "            Yes                   280             257            285  "
      ]
     },
     "execution_count": 78,
     "metadata": {},
     "output_type": "execute_result"
    }
   ],
   "source": [
    "df.groupby(['Loan_Status','Married']).count()"
   ]
  },
  {
   "cell_type": "code",
   "execution_count": 79,
   "metadata": {},
   "outputs": [
    {
     "data": {
      "image/png": "[encoded data removed]",
      "text/plain": [
       "<Figure size 432x288 with 1 Axes>"
      ]
     },
     "metadata": {
      "needs_background": "light"
     },
     "output_type": "display_data"
    }
   ],
   "source": [
    "%matplotlib inline\n",
    "pd.crosstab(df.Gender,df.Loan_Status).plot(kind='bar')\n",
    "plt.title('Empréstimo por Sexo')\n",
    "plt.xlabel('Sexo')\n",
    "plt.ylabel('Estado do Empréstimo')\n",
    "plt.savefig('EmprestimoPorSexo')"
   ]
  },
  {
   "cell_type": "code",
   "execution_count": 80,
   "metadata": {},
   "outputs": [
    {
     "data": {
      "image/png": "[encoded data removed]",
      "text/plain": [
       "<Figure size 432x288 with 1 Axes>"
      ]
     },
     "metadata": {
      "needs_background": "light"
     },
     "output_type": "display_data"
    }
   ],
   "source": [
    "table=pd.crosstab(df.Gender,df.Loan_Status)\n",
    "table.div(table.sum(1).astype(float), axis=0).plot(kind='bar', stacked=True)\n",
    "plt.title('Sexo x Emprestimo')\n",
    "plt.xlabel('Sexo')\n",
    "plt.ylabel('Proporção de Empréstimo')\n",
    "plt.savefig('Prop_sexo_emprestimo')"
   ]
  },
  {
   "cell_type": "code",
   "execution_count": 81,
   "metadata": {},
   "outputs": [
    {
     "data": {
      "image/png": "[encoded data removed]",
      "text/plain": [
       "<Figure size 432x288 with 1 Axes>"
      ]
     },
     "metadata": {
      "needs_background": "light"
     },
     "output_type": "display_data"
    }
   ],
   "source": [
    "table=pd.crosstab(df.Dependents,df.Loan_Status)\n",
    "table.div(table.sum(1).astype(float), axis=0).plot(kind='bar', stacked=True)\n",
    "plt.title('Dependentes x Emprestimo')\n",
    "plt.xlabel('Dependentes')\n",
    "plt.ylabel('Proporção de Empréstimo')\n",
    "plt.savefig('Prop_dependentes_emprestimo')"
   ]
  },
  {
   "cell_type": "code",
   "execution_count": 82,
   "metadata": {},
   "outputs": [
    {
     "data": {
      "image/png": "[encoded data removed]",
      "text/plain": [
       "<Figure size 432x288 with 1 Axes>"
      ]
     },
     "metadata": {
      "needs_background": "light"
     },
     "output_type": "display_data"
    }
   ],
   "source": [
    "table=pd.crosstab(df.Education,df.Loan_Status)\n",
    "table.div(table.sum(1).astype(float), axis=0).plot(kind='bar', stacked=True)\n",
    "plt.title('Educação x Emprestimo')\n",
    "plt.xlabel('Educação')\n",
    "plt.ylabel('Proporção de Empréstimo')\n",
    "plt.savefig('Prop_educacao_emprestimo')"
   ]
  },
  {
   "cell_type": "code",
   "execution_count": 83,
   "metadata": {},
   "outputs": [
    {
     "data": {
      "image/png": "[encoded data removed]",
      "text/plain": [
       "<Figure size 432x288 with 1 Axes>"
      ]
     },
     "metadata": {
      "needs_background": "light"
     },
     "output_type": "display_data"
    }
   ],
   "source": [
    "table=pd.crosstab(df.Self_Employed,df.Loan_Status)\n",
    "table.div(table.sum(1).astype(float), axis=0).plot(kind='bar', stacked=True)\n",
    "plt.title('Autônomo x Emprestimo')\n",
    "plt.xlabel('Autônomo')\n",
    "plt.ylabel('Proporção de Empréstimo')\n",
    "plt.savefig('Prop_autonomo_emprestimo')"
   ]
  },
  {
   "cell_type": "code",
   "execution_count": 84,
   "metadata": {},
   "outputs": [
    {
     "data": {
      "image/png": "[encoded data removed]",
      "text/plain": [
       "<Figure size 432x288 with 1 Axes>"
      ]
     },
     "metadata": {
      "needs_background": "light"
     },
     "output_type": "display_data"
    }
   ],
   "source": [
    "table=pd.crosstab(df.Property_Area,df.Loan_Status)\n",
    "table.div(table.sum(1).astype(float), axis=0).plot(kind='bar', stacked=True)\n",
    "plt.title('Propriedade x Emprestimo')\n",
    "plt.xlabel('Propriedade')\n",
    "plt.ylabel('Proporção de Empréstimo')\n",
    "plt.savefig('Prop_propriedade_emprestimo')"
   ]
  },
  {
   "cell_type": "code",
   "execution_count": 85,
   "metadata": {},
   "outputs": [],
   "source": [
    "# categorical missing values\n",
    "df['Gender'] = df['Gender'].fillna('Unknown')\n",
    "df['Married'] = df['Married'].fillna('Unknown')\n",
    "df['Dependents'] = df['Dependents'].fillna('Unknown')\n",
    "df['Education'] = df['Education'].fillna('Unknown')\n",
    "df['Self_Employed'] = df['Self_Employed'].fillna('Unknown')\n",
    "df['Property_Area'] = df['Property_Area'].fillna('Unknown')\n",
    "df['Loan_Status'] = df.Loan_Status.replace('N', 0)\n",
    "df['Loan_Status'] = df.Loan_Status.replace('Y', 1)\n",
    "# continuous missing values\n",
    "df['Credit_History'].apply(str)\n",
    "df['Credit_History'] = df['Credit_History'].fillna('Unknown')\n",
    "df['LoanAmount'] = df['LoanAmount'].fillna(df['LoanAmount'].mean())\n",
    "df['Loan_Amount_Term'] = df['Loan_Amount_Term'].fillna(df['Loan_Amount_Term'].mean())"
   ]
  },
  {
   "cell_type": "code",
   "execution_count": 86,
   "metadata": {},
   "outputs": [],
   "source": [
    "# dummy variables\n",
    "cat_vars=['Gender','Married','Dependents','Education','Self_Employed','Credit_History','Property_Area']\n",
    "for var in cat_vars:\n",
    "    cat_list = pd.get_dummies(df[var], prefix=var)\n",
    "    df1=df.join(cat_list)\n",
    "    df=df1\n",
    "\n",
    "\n"
   ]
  },
  {
   "cell_type": "code",
   "execution_count": 87,
   "metadata": {},
   "outputs": [
    {
     "data": {
      "text/plain": [
       "array(['ApplicantIncome', 'CoapplicantIncome', 'LoanAmount',\n",
       "       'Loan_Amount_Term', 'Loan_Status', 'Gender_Female', 'Gender_Male',\n",
       "       'Gender_Unknown', 'Married_No', 'Married_Unknown', 'Married_Yes',\n",
       "       'Dependents_0', 'Dependents_1', 'Dependents_2', 'Dependents_3+',\n",
       "       'Dependents_Unknown', 'Education_Graduate',\n",
       "       'Education_Not Graduate', 'Self_Employed_No',\n",
       "       'Self_Employed_Unknown', 'Self_Employed_Yes', 'Credit_History_0.0',\n",
       "       'Credit_History_1.0', 'Credit_History_Unknown',\n",
       "       'Property_Area_Rural', 'Property_Area_Semiurban',\n",
       "       'Property_Area_Urban'], dtype=object)"
      ]
     },
     "execution_count": 87,
     "metadata": {},
     "output_type": "execute_result"
    }
   ],
   "source": [
    "# remove columns\n",
    "data_vars=df.columns.values.tolist()\n",
    "to_keep=[i for i in data_vars if i not in cat_vars]\n",
    "df_final=df[to_keep]\n",
    "del df_final['Loan_ID']\n",
    "df_final.columns.values\n",
    "# df_final.head()"
   ]
  },
  {
   "cell_type": "code",
   "execution_count": null,
   "metadata": {},
   "outputs": [],
   "source": [
    "# lets start by removing outliers\n",
    "numeric_columns = ['ApplicantIncome','CoapplicantIncome','LoanAmount','Loan_Amount_Term']\n",
    "# this function can be used on any dataset to return a list of index values for the outliers\n",
    "def get_outliers(data, columns):\n",
    "    # we create an empty list\n",
    "    outlier_idxs = []\n",
    "    for col in columns:\n",
    "        elements = data[col]\n",
    "        # we get the mean value for each column\n",
    "        mean = elements.mean()\n",
    "        # and the standard deviation of the column\n",
    "        sd = elements.std()\n",
    "        # we then get the index values of all values higher or lower than the mean +/- 2 standard deviations\n",
    "        outliers_mask = data[(data[col] > mean + 3*sd) | (data[col] < mean - 3*sd)].index\n",
    "        # and add those values to our list\n",
    "        outlier_idxs += [x for x in outliers_mask]\n",
    "    return list(set(outlier_idxs))\n",
    "\n",
    "# we call the function we just created\n",
    "\n",
    "df_outliers = get_outliers(df_final, numeric_columns)\n",
    "print (df_outliers)\n",
    "df_outliers = [elem for elem in df_outliers if elem[0] == 'train']\n",
    "print (df_outliers)\n",
    "# and drop those values\n",
    "df_final = df_final.drop(df_outliers, axis = 0)\n",
    "# we can check that this code has worked by looking at the shape of our data\n",
    "print (df_final.shape)"
   ]
  },
  {
   "cell_type": "code",
   "execution_count": 88,
   "metadata": {},
   "outputs": [
    {
     "name": "stdout",
     "output_type": "stream",
     "text": [
      "length of oversampled data is  576\n",
      "Number of no Loan in oversampled data 288\n",
      "Number of Loan 288\n",
      "Proportion of no Loan data in oversampled data is  0.5\n",
      "Proportion of Loan data in oversampled data is  0.5\n"
     ]
    }
   ],
   "source": [
    "# sampling with SMOTE\n",
    "X = df_final.loc[:, df_final.columns != 'Loan_Status']\n",
    "y = df_final.loc[:, df_final.columns == 'Loan_Status']\n",
    "from imblearn.over_sampling import SMOTE\n",
    "os = SMOTE(random_state=0)\n",
    "X_train, X_test, y_train, y_test = train_test_split(X, y, test_size=0.3, random_state=0)\n",
    "columns = X_train.columns\n",
    "\n",
    "os_data_X,os_data_y=os.fit_sample(X_train, y_train.values.ravel())\n",
    "os_data_X = pd.DataFrame(data=os_data_X,columns=columns )\n",
    "os_data_y= pd.DataFrame(data=os_data_y,columns=['Loan_Status'])\n",
    "# numbers of sampling\n",
    "print(\"length of oversampled data is \",len(os_data_X))\n",
    "print(\"Number of no Loan in oversampled data\",len(os_data_y[os_data_y['Loan_Status']==0]))\n",
    "print(\"Number of Loan\",len(os_data_y[os_data_y['Loan_Status']==1]))\n",
    "print(\"Proportion of no Loan data in oversampled data is \",len(os_data_y[os_data_y['Loan_Status']==0])/len(os_data_X))\n",
    "print(\"Proportion of Loan data in oversampled data is \",len(os_data_y[os_data_y['Loan_Status']==1])/len(os_data_X))"
   ]
  },
  {
   "cell_type": "code",
   "execution_count": 89,
   "metadata": {},
   "outputs": [
    {
     "data": {
      "text/plain": [
       "ApplicantIncome            429\n",
       "CoapplicantIncome          429\n",
       "LoanAmount                 429\n",
       "Loan_Amount_Term           429\n",
       "Gender_Female              429\n",
       "Gender_Male                429\n",
       "Gender_Unknown             429\n",
       "Married_No                 429\n",
       "Married_Unknown            429\n",
       "Married_Yes                429\n",
       "Dependents_0               429\n",
       "Dependents_1               429\n",
       "Dependents_2               429\n",
       "Dependents_3+              429\n",
       "Dependents_Unknown         429\n",
       "Education_Graduate         429\n",
       "Education_Not Graduate     429\n",
       "Self_Employed_No           429\n",
       "Self_Employed_Unknown      429\n",
       "Self_Employed_Yes          429\n",
       "Credit_History_0.0         429\n",
       "Credit_History_1.0         429\n",
       "Credit_History_Unknown     429\n",
       "Property_Area_Rural        429\n",
       "Property_Area_Semiurban    429\n",
       "Property_Area_Urban        429\n",
       "dtype: int64"
      ]
     },
     "execution_count": 89,
     "metadata": {},
     "output_type": "execute_result"
    }
   ],
   "source": [
    "X_train.count()"
   ]
  },
  {
   "cell_type": "code",
   "execution_count": 90,
   "metadata": {},
   "outputs": [
    {
     "name": "stdout",
     "output_type": "stream",
     "text": [
      "[False False False False  True  True  True  True  True False False  True\n",
      "  True  True  True  True  True  True  True  True  True  True  True  True\n",
      "  True  True]\n",
      "[7 6 3 5 1 1 1 1 1 4 2 1 1 1 1 1 1 1 1 1 1 1 1 1 1 1]\n"
     ]
    }
   ],
   "source": [
    "# RFE Recursive Feature Elimination\n",
    "df_final_vars=df_final.columns.values.tolist()\n",
    "y=['Loan_Status']\n",
    "X=[i for i in df_final_vars if i not in y]\n",
    "\n",
    "from sklearn.feature_selection import RFE\n",
    "from sklearn.linear_model import LogisticRegression\n",
    "\n",
    "logreg = LogisticRegression(solver='liblinear')\n",
    "\n",
    "rfe = RFE(logreg, 20)\n",
    "rfe = rfe.fit(os_data_X, os_data_y.values.ravel())\n",
    "print(rfe.support_)\n",
    "print(rfe.ranking_)"
   ]
  },
  {
   "cell_type": "code",
   "execution_count": 91,
   "metadata": {},
   "outputs": [
    {
     "name": "stdout",
     "output_type": "stream",
     "text": [
      "[4, 5, 6, 7, 8, 11, 12, 13, 14, 15, 16, 17, 18, 19, 20, 21, 22, 23, 24, 25]\n",
      "4               Gender_Female\n",
      "5                 Gender_Male\n",
      "6              Gender_Unknown\n",
      "7                  Married_No\n",
      "8             Married_Unknown\n",
      "11               Dependents_1\n",
      "12               Dependents_2\n",
      "13              Dependents_3+\n",
      "14         Dependents_Unknown\n",
      "15         Education_Graduate\n",
      "16     Education_Not Graduate\n",
      "17           Self_Employed_No\n",
      "18      Self_Employed_Unknown\n",
      "19          Self_Employed_Yes\n",
      "20         Credit_History_0.0\n",
      "21         Credit_History_1.0\n",
      "22     Credit_History_Unknown\n",
      "23        Property_Area_Rural\n",
      "24    Property_Area_Semiurban\n",
      "25        Property_Area_Urban\n",
      "Name: Col_name, dtype: object\n"
     ]
    }
   ],
   "source": [
    "x_col = pd.DataFrame({'Col_name': X_train.columns})\n",
    "sel_col_index = x_col.index[rfe.support_].tolist()\n",
    "print(sel_col_index)\n",
    "sel_col = x_col['Col_name'].iloc[sel_col_index]\n",
    "print(sel_col)\n",
    "#X=os_data_X[sel_col]\n",
    "X=pd.DataFrame(data=os_data_X,columns=sel_col)\n",
    "y=os_data_y['Loan_Status']\n"
   ]
  },
  {
   "cell_type": "code",
   "execution_count": 92,
   "metadata": {},
   "outputs": [
    {
     "name": "stdout",
     "output_type": "stream",
     "text": [
      "Warning: Maximum number of iterations has been exceeded.\n",
      "         Current function value: 0.493557\n",
      "         Iterations: 35\n",
      "                                     Results: Logit\n",
      "=========================================================================================\n",
      "Model:                      Logit                    Pseudo R-squared:         0.288     \n",
      "Dependent Variable:         Loan_Status              AIC:                      600.5779  \n",
      "Date:                       2019-06-02 18:46         BIC:                      670.2756  \n",
      "No. Observations:           576                      Log-Likelihood:           -284.29   \n",
      "Df Model:                   15                       LL-Null:                  -399.25   \n",
      "Df Residuals:               560                      LLR p-value:              1.6535e-40\n",
      "Converged:                  0.0000                   Scale:                    1.0000    \n",
      "No. Iterations:             35.0000                                                      \n",
      "-----------------------------------------------------------------------------------------\n",
      "                         Coef.     Std.Err.      z    P>|z|      [0.025         0.975]   \n",
      "-----------------------------------------------------------------------------------------\n",
      "Gender_Female            0.0455           nan     nan    nan            nan           nan\n",
      "Gender_Male              0.0026           nan     nan    nan            nan           nan\n",
      "Gender_Unknown          -0.6210           nan     nan    nan            nan           nan\n",
      "Married_No              -0.6465        0.2611 -2.4761 0.0133        -1.1583       -0.1348\n",
      "Married_Unknown         25.0825   211114.5545  0.0001 0.9999   -413751.8409   413802.0060\n",
      "Dependents_1            -0.6114        0.2855 -2.1418 0.0322        -1.1709       -0.0519\n",
      "Dependents_2             0.2507        0.3337  0.7513 0.4525        -0.4033        0.9047\n",
      "Dependents_3+            0.2274        0.4138  0.5495 0.5826        -0.5837        1.0385\n",
      "Dependents_Unknown      -0.7632        0.9739 -0.7836 0.4332        -2.6720        1.1456\n",
      "Education_Graduate      -0.1997           nan     nan    nan            nan           nan\n",
      "Education_Not Graduate  -0.3732           nan     nan    nan            nan           nan\n",
      "Self_Employed_No        -0.2298 10660953.2504 -0.0000 1.0000 -20895084.6414 20895084.1817\n",
      "Self_Employed_Unknown   -0.3155  8875512.0791 -0.0000 1.0000 -17395684.3348 17395683.7038\n",
      "Self_Employed_Yes       -0.0275 10690167.3757 -0.0000 1.0000 -20952343.0727 20952343.0176\n",
      "Credit_History_0.0      -3.3673   575613.8353 -0.0000 1.0000  -1128185.7535  1128179.0189\n",
      "Credit_History_1.0       1.6233   567163.2013  0.0000 1.0000  -1111617.8246  1111621.0712\n",
      "Credit_History_Unknown   1.1712   562253.3118  0.0000 1.0000  -1101995.0701  1101997.4125\n",
      "Property_Area_Rural     -0.6488           nan     nan    nan            nan           nan\n",
      "Property_Area_Semiurban  0.2806           nan     nan    nan            nan           nan\n",
      "Property_Area_Urban     -0.2047           nan     nan    nan            nan           nan\n",
      "=========================================================================================\n",
      "\n"
     ]
    },
    {
     "name": "stderr",
     "output_type": "stream",
     "text": [
      "/home/lemos/miniconda3/envs/av/lib/python3.7/site-packages/statsmodels/base/model.py:508: ConvergenceWarning: Maximum Likelihood optimization failed to converge. Check mle_retvals\n",
      "  \"Check mle_retvals\", ConvergenceWarning)\n",
      "/home/lemos/miniconda3/envs/av/lib/python3.7/site-packages/statsmodels/base/model.py:1092: RuntimeWarning: invalid value encountered in sqrt\n",
      "  bse_ = np.sqrt(np.diag(self.cov_params()))\n",
      "/home/lemos/miniconda3/envs/av/lib/python3.7/site-packages/scipy/stats/_distn_infrastructure.py:879: RuntimeWarning: invalid value encountered in greater\n",
      "  return (self.a < x) & (x < self.b)\n",
      "/home/lemos/miniconda3/envs/av/lib/python3.7/site-packages/scipy/stats/_distn_infrastructure.py:879: RuntimeWarning: invalid value encountered in less\n",
      "  return (self.a < x) & (x < self.b)\n",
      "/home/lemos/miniconda3/envs/av/lib/python3.7/site-packages/scipy/stats/_distn_infrastructure.py:1821: RuntimeWarning: invalid value encountered in less_equal\n",
      "  cond2 = cond0 & (x <= self.a)\n"
     ]
    }
   ],
   "source": [
    "# model fit\n",
    "import statsmodels.api as sm\n",
    "logit_model=sm.Logit(y,X)\n",
    "result=logit_model.fit()\n",
    "print(result.summary2())"
   ]
  },
  {
   "cell_type": "code",
   "execution_count": 95,
   "metadata": {},
   "outputs": [
    {
     "name": "stdout",
     "output_type": "stream",
     "text": [
      "4               Gender_Female\n",
      "5                 Gender_Male\n",
      "6              Gender_Unknown\n",
      "7                  Married_No\n",
      "8             Married_Unknown\n",
      "11               Dependents_1\n",
      "12               Dependents_2\n",
      "13              Dependents_3+\n",
      "14         Dependents_Unknown\n",
      "15         Education_Graduate\n",
      "16     Education_Not Graduate\n",
      "17           Self_Employed_No\n",
      "18      Self_Employed_Unknown\n",
      "19          Self_Employed_Yes\n",
      "20         Credit_History_0.0\n",
      "21         Credit_History_1.0\n",
      "22     Credit_History_Unknown\n",
      "23        Property_Area_Rural\n",
      "24    Property_Area_Semiurban\n",
      "25        Property_Area_Urban\n",
      "Name: Col_name, dtype: object\n"
     ]
    },
    {
     "ename": "KeyError",
     "evalue": "'Married_Unknown'",
     "output_type": "error",
     "traceback": [
      "\u001b[0;31m---------------------------------------------------------------------------\u001b[0m",
      "\u001b[0;31mTypeError\u001b[0m                                 Traceback (most recent call last)",
      "\u001b[0;32mpandas/_libs/index.pyx\u001b[0m in \u001b[0;36mpandas._libs.index.IndexEngine.get_loc\u001b[0;34m()\u001b[0m\n",
      "\u001b[0;32mpandas/_libs/hashtable_class_helper.pxi\u001b[0m in \u001b[0;36mpandas._libs.hashtable.Int64HashTable.get_item\u001b[0;34m()\u001b[0m\n",
      "\u001b[0;31mTypeError\u001b[0m: an integer is required",
      "\nDuring handling of the above exception, another exception occurred:\n",
      "\u001b[0;31mKeyError\u001b[0m                                  Traceback (most recent call last)",
      "\u001b[0;32m~/miniconda3/envs/av/lib/python3.7/site-packages/pandas/core/indexes/base.py\u001b[0m in \u001b[0;36mget_loc\u001b[0;34m(self, key, method, tolerance)\u001b[0m\n\u001b[1;32m   3077\u001b[0m             \u001b[0;32mtry\u001b[0m\u001b[0;34m:\u001b[0m\u001b[0;34m\u001b[0m\u001b[0;34m\u001b[0m\u001b[0m\n\u001b[0;32m-> 3078\u001b[0;31m                 \u001b[0;32mreturn\u001b[0m \u001b[0mself\u001b[0m\u001b[0;34m.\u001b[0m\u001b[0m_engine\u001b[0m\u001b[0;34m.\u001b[0m\u001b[0mget_loc\u001b[0m\u001b[0;34m(\u001b[0m\u001b[0mkey\u001b[0m\u001b[0;34m)\u001b[0m\u001b[0;34m\u001b[0m\u001b[0;34m\u001b[0m\u001b[0m\n\u001b[0m\u001b[1;32m   3079\u001b[0m             \u001b[0;32mexcept\u001b[0m \u001b[0mKeyError\u001b[0m\u001b[0;34m:\u001b[0m\u001b[0;34m\u001b[0m\u001b[0;34m\u001b[0m\u001b[0m\n",
      "\u001b[0;32mpandas/_libs/index.pyx\u001b[0m in \u001b[0;36mpandas._libs.index.IndexEngine.get_loc\u001b[0;34m()\u001b[0m\n",
      "\u001b[0;32mpandas/_libs/index.pyx\u001b[0m in \u001b[0;36mpandas._libs.index.IndexEngine.get_loc\u001b[0;34m()\u001b[0m\n",
      "\u001b[0;31mKeyError\u001b[0m: 'Married_Unknown'",
      "\nDuring handling of the above exception, another exception occurred:\n",
      "\u001b[0;31mKeyError\u001b[0m                                  Traceback (most recent call last)",
      "\u001b[0;32m<ipython-input-95-549863f37b02>\u001b[0m in \u001b[0;36m<module>\u001b[0;34m\u001b[0m\n\u001b[1;32m      1\u001b[0m \u001b[0;31m# remove p-values > 0.05\u001b[0m\u001b[0;34m\u001b[0m\u001b[0;34m\u001b[0m\u001b[0;34m\u001b[0m\u001b[0m\n\u001b[1;32m      2\u001b[0m \u001b[0mprint\u001b[0m\u001b[0;34m(\u001b[0m\u001b[0msel_col\u001b[0m\u001b[0;34m)\u001b[0m\u001b[0;34m\u001b[0m\u001b[0;34m\u001b[0m\u001b[0m\n\u001b[0;32m----> 3\u001b[0;31m \u001b[0;32mdel\u001b[0m \u001b[0msel_col\u001b[0m\u001b[0;34m[\u001b[0m\u001b[0;34m'Married_Unknown'\u001b[0m\u001b[0;34m]\u001b[0m\u001b[0;34m\u001b[0m\u001b[0;34m\u001b[0m\u001b[0m\n\u001b[0m",
      "\u001b[0;32m~/miniconda3/envs/av/lib/python3.7/site-packages/pandas/core/generic.py\u001b[0m in \u001b[0;36m__delitem__\u001b[0;34m(self, key)\u001b[0m\n\u001b[1;32m   2741\u001b[0m             \u001b[0;31m# there was no match, this call should raise the appropriate\u001b[0m\u001b[0;34m\u001b[0m\u001b[0;34m\u001b[0m\u001b[0;34m\u001b[0m\u001b[0m\n\u001b[1;32m   2742\u001b[0m             \u001b[0;31m# exception:\u001b[0m\u001b[0;34m\u001b[0m\u001b[0;34m\u001b[0m\u001b[0;34m\u001b[0m\u001b[0m\n\u001b[0;32m-> 2743\u001b[0;31m             \u001b[0mself\u001b[0m\u001b[0;34m.\u001b[0m\u001b[0m_data\u001b[0m\u001b[0;34m.\u001b[0m\u001b[0mdelete\u001b[0m\u001b[0;34m(\u001b[0m\u001b[0mkey\u001b[0m\u001b[0;34m)\u001b[0m\u001b[0;34m\u001b[0m\u001b[0;34m\u001b[0m\u001b[0m\n\u001b[0m\u001b[1;32m   2744\u001b[0m \u001b[0;34m\u001b[0m\u001b[0m\n\u001b[1;32m   2745\u001b[0m         \u001b[0;31m# delete from the caches\u001b[0m\u001b[0;34m\u001b[0m\u001b[0;34m\u001b[0m\u001b[0;34m\u001b[0m\u001b[0m\n",
      "\u001b[0;32m~/miniconda3/envs/av/lib/python3.7/site-packages/pandas/core/internals.py\u001b[0m in \u001b[0;36mdelete\u001b[0;34m(self, item)\u001b[0m\n\u001b[1;32m   4781\u001b[0m         \u001b[0mEnsures\u001b[0m \u001b[0mthat\u001b[0m \u001b[0mself\u001b[0m\u001b[0;34m.\u001b[0m\u001b[0mblocks\u001b[0m \u001b[0mdoesn\u001b[0m\u001b[0;31m'\u001b[0m\u001b[0mt\u001b[0m \u001b[0mbecome\u001b[0m \u001b[0mempty\u001b[0m\u001b[0;34m.\u001b[0m\u001b[0;34m\u001b[0m\u001b[0;34m\u001b[0m\u001b[0m\n\u001b[1;32m   4782\u001b[0m         \"\"\"\n\u001b[0;32m-> 4783\u001b[0;31m         \u001b[0mloc\u001b[0m \u001b[0;34m=\u001b[0m \u001b[0mself\u001b[0m\u001b[0;34m.\u001b[0m\u001b[0mitems\u001b[0m\u001b[0;34m.\u001b[0m\u001b[0mget_loc\u001b[0m\u001b[0;34m(\u001b[0m\u001b[0mitem\u001b[0m\u001b[0;34m)\u001b[0m\u001b[0;34m\u001b[0m\u001b[0;34m\u001b[0m\u001b[0m\n\u001b[0m\u001b[1;32m   4784\u001b[0m         \u001b[0mself\u001b[0m\u001b[0;34m.\u001b[0m\u001b[0m_block\u001b[0m\u001b[0;34m.\u001b[0m\u001b[0mdelete\u001b[0m\u001b[0;34m(\u001b[0m\u001b[0mloc\u001b[0m\u001b[0;34m)\u001b[0m\u001b[0;34m\u001b[0m\u001b[0;34m\u001b[0m\u001b[0m\n\u001b[1;32m   4785\u001b[0m         \u001b[0mself\u001b[0m\u001b[0;34m.\u001b[0m\u001b[0maxes\u001b[0m\u001b[0;34m[\u001b[0m\u001b[0;36m0\u001b[0m\u001b[0;34m]\u001b[0m \u001b[0;34m=\u001b[0m \u001b[0mself\u001b[0m\u001b[0;34m.\u001b[0m\u001b[0maxes\u001b[0m\u001b[0;34m[\u001b[0m\u001b[0;36m0\u001b[0m\u001b[0;34m]\u001b[0m\u001b[0;34m.\u001b[0m\u001b[0mdelete\u001b[0m\u001b[0;34m(\u001b[0m\u001b[0mloc\u001b[0m\u001b[0;34m)\u001b[0m\u001b[0;34m\u001b[0m\u001b[0;34m\u001b[0m\u001b[0m\n",
      "\u001b[0;32m~/miniconda3/envs/av/lib/python3.7/site-packages/pandas/core/indexes/base.py\u001b[0m in \u001b[0;36mget_loc\u001b[0;34m(self, key, method, tolerance)\u001b[0m\n\u001b[1;32m   3078\u001b[0m                 \u001b[0;32mreturn\u001b[0m \u001b[0mself\u001b[0m\u001b[0;34m.\u001b[0m\u001b[0m_engine\u001b[0m\u001b[0;34m.\u001b[0m\u001b[0mget_loc\u001b[0m\u001b[0;34m(\u001b[0m\u001b[0mkey\u001b[0m\u001b[0;34m)\u001b[0m\u001b[0;34m\u001b[0m\u001b[0;34m\u001b[0m\u001b[0m\n\u001b[1;32m   3079\u001b[0m             \u001b[0;32mexcept\u001b[0m \u001b[0mKeyError\u001b[0m\u001b[0;34m:\u001b[0m\u001b[0;34m\u001b[0m\u001b[0;34m\u001b[0m\u001b[0m\n\u001b[0;32m-> 3080\u001b[0;31m                 \u001b[0;32mreturn\u001b[0m \u001b[0mself\u001b[0m\u001b[0;34m.\u001b[0m\u001b[0m_engine\u001b[0m\u001b[0;34m.\u001b[0m\u001b[0mget_loc\u001b[0m\u001b[0;34m(\u001b[0m\u001b[0mself\u001b[0m\u001b[0;34m.\u001b[0m\u001b[0m_maybe_cast_indexer\u001b[0m\u001b[0;34m(\u001b[0m\u001b[0mkey\u001b[0m\u001b[0;34m)\u001b[0m\u001b[0;34m)\u001b[0m\u001b[0;34m\u001b[0m\u001b[0;34m\u001b[0m\u001b[0m\n\u001b[0m\u001b[1;32m   3081\u001b[0m \u001b[0;34m\u001b[0m\u001b[0m\n\u001b[1;32m   3082\u001b[0m         \u001b[0mindexer\u001b[0m \u001b[0;34m=\u001b[0m \u001b[0mself\u001b[0m\u001b[0;34m.\u001b[0m\u001b[0mget_indexer\u001b[0m\u001b[0;34m(\u001b[0m\u001b[0;34m[\u001b[0m\u001b[0mkey\u001b[0m\u001b[0;34m]\u001b[0m\u001b[0;34m,\u001b[0m \u001b[0mmethod\u001b[0m\u001b[0;34m=\u001b[0m\u001b[0mmethod\u001b[0m\u001b[0;34m,\u001b[0m \u001b[0mtolerance\u001b[0m\u001b[0;34m=\u001b[0m\u001b[0mtolerance\u001b[0m\u001b[0;34m)\u001b[0m\u001b[0;34m\u001b[0m\u001b[0;34m\u001b[0m\u001b[0m\n",
      "\u001b[0;32mpandas/_libs/index.pyx\u001b[0m in \u001b[0;36mpandas._libs.index.IndexEngine.get_loc\u001b[0;34m()\u001b[0m\n",
      "\u001b[0;32mpandas/_libs/index.pyx\u001b[0m in \u001b[0;36mpandas._libs.index.IndexEngine.get_loc\u001b[0;34m()\u001b[0m\n",
      "\u001b[0;31mKeyError\u001b[0m: 'Married_Unknown'"
     ]
    }
   ],
   "source": [
    "# remove p-values > 0.05\n",
    "print(sel_col)\n",
    "del sel_col['Married_Unknown']"
   ]
  },
  {
   "cell_type": "code",
   "execution_count": null,
   "metadata": {},
   "outputs": [],
   "source": []
  }
 ],
 "metadata": {
  "kernelspec": {
   "display_name": "Python 3",
   "language": "python",
   "name": "python3"
  },
  "language_info": {
   "codemirror_mode": {
    "name": "ipython",
    "version": 3
   },
   "file_extension": ".py",
   "mimetype": "text/x-python",
   "name": "python",
   "nbconvert_exporter": "python",
   "pygments_lexer": "ipython3",
   "version": "3.7.1"
  }
 },
 "nbformat": 4,
 "nbformat_minor": 2
}
